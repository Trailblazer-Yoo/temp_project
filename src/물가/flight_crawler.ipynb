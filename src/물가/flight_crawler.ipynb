{
 "cells": [
  {
   "cell_type": "code",
   "execution_count": 1,
   "id": "e3ed7046",
   "metadata": {},
   "outputs": [],
   "source": [
    "import pandas as pd\n",
    "\n",
    "import multiprocessing as mp\n",
    "from multiprocessing import Pool\n",
    "\n",
    "import crawler_dep\n",
    "import crawler_arr"
   ]
  },
  {
   "cell_type": "code",
   "execution_count": 6,
   "id": "e2070e8e",
   "metadata": {},
   "outputs": [],
   "source": [
    "# 크롤 사이트: 네이버 항공권\n",
    " ## https://flight.naver.com/\n",
    "# 기간: 5/9 ~ 5/15\n",
    "# 시각: 00시\n",
    "# 내용\n",
    "    ## 항공권 가격, 여행지, 예약 날짜(요일 포함), 비행 날짜(요일 포함), 시간, 항공사 정보\n",
    "    ## 수집 정보 기간: 5월-9월 셋째주 월-일요일 /  총 일주일씩 4개월\n",
    "    ## 나라\n",
    "        ## 아시아: 일본, 중국, 홍콩, 베트남, 태국, 필리핀, 몽골, 말레이시아, 싱가폴, 대만, 인도네시아\n",
    "        ## 중동 아시아 및 아프리카: 아랍 에미리트, 이집트\n",
    "        ## 유럽: 유로존(오스트리아·벨기에·키프로스·필란드·프랑스·독일·그리스·아일랜드·이탈리아·룩셈부르크·몰타·네덜란드·포르투갈·슬로베니아·스페인·슬로바키아·에스토니아·라트비아·라투아니아), 영국, 스위스, 터키, 러시아\n",
    "        ## 아메리카 대륙: 미국, 캐나다, 멕시코, 브라질"
   ]
  },
  {
   "cell_type": "code",
   "execution_count": 4,
   "id": "4b6a12dc",
   "metadata": {},
   "outputs": [],
   "source": [
    "days = ['20220516', '20220517', '20220518', '20220519', '20220520', '20220521', '20220522',\n",
    "        '20220613', '20220614', '20220615', '20220616', '20220617', '20220618', '20220619',\n",
    "        '20220711', '20220712', '20220713', '20220714', '20220715', '20220716', '20220717',\n",
    "        '20220815', '20220816', '20220817', '20220818', '20220819', '20220820', '20220821',\n",
    "        '20220912', '20220913', '20220914', '20220915', '20220916', '20220917', '20220918'] # 데이터 수집 날짜"
   ]
  },
  {
   "cell_type": "code",
   "execution_count": 5,
   "id": "c86461b6",
   "metadata": {},
   "outputs": [
    {
     "name": "stderr",
     "output_type": "stream",
     "text": [
      "  0%|          | 0/131 [00:23<?, ?it/s]\n",
      "  0%|          | 0/131 [00:23<?, ?it/s]\n",
      "  0%|          | 0/131 [00:23<?, ?it/s]\n",
      "  0%|          | 0/131 [00:23<?, ?it/s]\n",
      "  0%|          | 0/131 [00:23<?, ?it/s]\n",
      "  0%|          | 0/131 [00:23<?, ?it/s]\n",
      "  0%|          | 0/131 [00:23<?, ?it/s]\n",
      "  0%|          | 0/131 [00:23<?, ?it/s]\n"
     ]
    },
    {
     "ename": "NoSuchElementException",
     "evalue": "Message: no such element: Unable to locate element: {\"method\":\"xpath\",\"selector\":\"//*[@id=\"__next\"]/div/div[1]/div[4]/div/div[1]/div/div[2]/button\"}\n  (Session info: chrome=101.0.4951.64)\n",
     "output_type": "error",
     "traceback": [
      "\u001b[0;31m---------------------------------------------------------------------------\u001b[0m",
      "\u001b[0;31mRemoteTraceback\u001b[0m                           Traceback (most recent call last)",
      "\u001b[0;31mRemoteTraceback\u001b[0m: \n\"\"\"\nTraceback (most recent call last):\n  File \"/Users/zudy-b/opt/anaconda3/lib/python3.9/multiprocessing/pool.py\", line 125, in worker\n    result = (True, func(*args, **kwds))\n  File \"/Users/zudy-b/opt/anaconda3/lib/python3.9/multiprocessing/pool.py\", line 48, in mapstar\n    return list(map(*args))\n  File \"/Users/zudy-b/Desktop/2022/빅데이터 강의/프로젝트/최종 프로젝트/crawler.py\", line 48, in crawl\n    element1 = driver.find_element(By.XPATH, '//*[@id=\"__next\"]/div/div[1]/div[4]/div/div[1]/div/div[2]/button')\n  File \"/Users/zudy-b/opt/anaconda3/lib/python3.9/site-packages/selenium/webdriver/remote/webdriver.py\", line 976, in find_element\n    return self.execute(Command.FIND_ELEMENT, {\n  File \"/Users/zudy-b/opt/anaconda3/lib/python3.9/site-packages/selenium/webdriver/remote/webdriver.py\", line 321, in execute\n    self.error_handler.check_response(response)\n  File \"/Users/zudy-b/opt/anaconda3/lib/python3.9/site-packages/selenium/webdriver/remote/errorhandler.py\", line 242, in check_response\n    raise exception_class(message, screen, stacktrace)\nselenium.common.exceptions.NoSuchElementException: Message: no such element: Unable to locate element: {\"method\":\"xpath\",\"selector\":\"//*[@id=\"__next\"]/div/div[1]/div[4]/div/div[1]/div/div[2]/button\"}\n  (Session info: chrome=101.0.4951.64)\n\n\"\"\"",
      "\nThe above exception was the direct cause of the following exception:\n",
      "\u001b[0;31mNoSuchElementException\u001b[0m                    Traceback (most recent call last)",
      "\u001b[0;32m/var/folders/mt/cl5sbk5935d2kz0_4_5kxkkr0000gn/T/ipykernel_23227/2245784716.py\u001b[0m in \u001b[0;36m<module>\u001b[0;34m\u001b[0m\n\u001b[1;32m      3\u001b[0m     \u001b[0mpool\u001b[0m \u001b[0;34m=\u001b[0m \u001b[0mPool\u001b[0m\u001b[0;34m(\u001b[0m\u001b[0mnum_cores\u001b[0m\u001b[0;34m)\u001b[0m\u001b[0;34m\u001b[0m\u001b[0;34m\u001b[0m\u001b[0m\n\u001b[1;32m      4\u001b[0m \u001b[0;34m\u001b[0m\u001b[0m\n\u001b[0;32m----> 5\u001b[0;31m     \u001b[0moutput\u001b[0m \u001b[0;34m=\u001b[0m \u001b[0mpool\u001b[0m\u001b[0;34m.\u001b[0m\u001b[0mmap\u001b[0m\u001b[0;34m(\u001b[0m\u001b[0mcrawler\u001b[0m\u001b[0;34m.\u001b[0m\u001b[0mcrawl\u001b[0m\u001b[0;34m,\u001b[0m \u001b[0mdays\u001b[0m\u001b[0;34m)\u001b[0m\u001b[0;34m\u001b[0m\u001b[0;34m\u001b[0m\u001b[0m\n\u001b[0m\u001b[1;32m      6\u001b[0m \u001b[0;34m\u001b[0m\u001b[0m\n\u001b[1;32m      7\u001b[0m     \u001b[0mpool\u001b[0m\u001b[0;34m.\u001b[0m\u001b[0mclose\u001b[0m\u001b[0;34m(\u001b[0m\u001b[0;34m)\u001b[0m\u001b[0;34m\u001b[0m\u001b[0;34m\u001b[0m\u001b[0m\n",
      "\u001b[0;32m~/opt/anaconda3/lib/python3.9/multiprocessing/pool.py\u001b[0m in \u001b[0;36mmap\u001b[0;34m(self, func, iterable, chunksize)\u001b[0m\n\u001b[1;32m    362\u001b[0m         \u001b[0;32min\u001b[0m \u001b[0ma\u001b[0m \u001b[0mlist\u001b[0m \u001b[0mthat\u001b[0m \u001b[0;32mis\u001b[0m \u001b[0mreturned\u001b[0m\u001b[0;34m.\u001b[0m\u001b[0;34m\u001b[0m\u001b[0;34m\u001b[0m\u001b[0m\n\u001b[1;32m    363\u001b[0m         '''\n\u001b[0;32m--> 364\u001b[0;31m         \u001b[0;32mreturn\u001b[0m \u001b[0mself\u001b[0m\u001b[0;34m.\u001b[0m\u001b[0m_map_async\u001b[0m\u001b[0;34m(\u001b[0m\u001b[0mfunc\u001b[0m\u001b[0;34m,\u001b[0m \u001b[0miterable\u001b[0m\u001b[0;34m,\u001b[0m \u001b[0mmapstar\u001b[0m\u001b[0;34m,\u001b[0m \u001b[0mchunksize\u001b[0m\u001b[0;34m)\u001b[0m\u001b[0;34m.\u001b[0m\u001b[0mget\u001b[0m\u001b[0;34m(\u001b[0m\u001b[0;34m)\u001b[0m\u001b[0;34m\u001b[0m\u001b[0;34m\u001b[0m\u001b[0m\n\u001b[0m\u001b[1;32m    365\u001b[0m \u001b[0;34m\u001b[0m\u001b[0m\n\u001b[1;32m    366\u001b[0m     \u001b[0;32mdef\u001b[0m \u001b[0mstarmap\u001b[0m\u001b[0;34m(\u001b[0m\u001b[0mself\u001b[0m\u001b[0;34m,\u001b[0m \u001b[0mfunc\u001b[0m\u001b[0;34m,\u001b[0m \u001b[0miterable\u001b[0m\u001b[0;34m,\u001b[0m \u001b[0mchunksize\u001b[0m\u001b[0;34m=\u001b[0m\u001b[0;32mNone\u001b[0m\u001b[0;34m)\u001b[0m\u001b[0;34m:\u001b[0m\u001b[0;34m\u001b[0m\u001b[0;34m\u001b[0m\u001b[0m\n",
      "\u001b[0;32m~/opt/anaconda3/lib/python3.9/multiprocessing/pool.py\u001b[0m in \u001b[0;36mget\u001b[0;34m(self, timeout)\u001b[0m\n\u001b[1;32m    769\u001b[0m             \u001b[0;32mreturn\u001b[0m \u001b[0mself\u001b[0m\u001b[0;34m.\u001b[0m\u001b[0m_value\u001b[0m\u001b[0;34m\u001b[0m\u001b[0;34m\u001b[0m\u001b[0m\n\u001b[1;32m    770\u001b[0m         \u001b[0;32melse\u001b[0m\u001b[0;34m:\u001b[0m\u001b[0;34m\u001b[0m\u001b[0;34m\u001b[0m\u001b[0m\n\u001b[0;32m--> 771\u001b[0;31m             \u001b[0;32mraise\u001b[0m \u001b[0mself\u001b[0m\u001b[0;34m.\u001b[0m\u001b[0m_value\u001b[0m\u001b[0;34m\u001b[0m\u001b[0;34m\u001b[0m\u001b[0m\n\u001b[0m\u001b[1;32m    772\u001b[0m \u001b[0;34m\u001b[0m\u001b[0m\n\u001b[1;32m    773\u001b[0m     \u001b[0;32mdef\u001b[0m \u001b[0m_set\u001b[0m\u001b[0;34m(\u001b[0m\u001b[0mself\u001b[0m\u001b[0;34m,\u001b[0m \u001b[0mi\u001b[0m\u001b[0;34m,\u001b[0m \u001b[0mobj\u001b[0m\u001b[0;34m)\u001b[0m\u001b[0;34m:\u001b[0m\u001b[0;34m\u001b[0m\u001b[0;34m\u001b[0m\u001b[0m\n",
      "\u001b[0;31mNoSuchElementException\u001b[0m: Message: no such element: Unable to locate element: {\"method\":\"xpath\",\"selector\":\"//*[@id=\"__next\"]/div/div[1]/div[4]/div/div[1]/div/div[2]/button\"}\n  (Session info: chrome=101.0.4951.64)\n"
     ]
    }
   ],
   "source": [
    "if __name__ == '__main__':\n",
    "    num_cores = mp.cpu_count()\n",
    "    pool = Pool(num_cores)\n",
    "    \n",
    "    output = pool.map(crawler_dep.crawl, days)\n",
    "\n",
    "    pool.close()\n",
    "    pool.join()\n",
    "    \n",
    "    print(output)"
   ]
  },
  {
   "cell_type": "code",
   "execution_count": null,
   "id": "c3c9d33a",
   "metadata": {},
   "outputs": [],
   "source": [
    "def save(date):\n",
    "    \n",
    "    for i in range(1,35):\n",
    "        output[0] = output[0].append(output[i], ignore_index=True)\n",
    "        dep_flight = output[0]\n",
    "    \n",
    "    save_path = f'/Users/zudy-b/Desktop/항공권 출발 정보_{date}.csv'\n",
    "\n",
    "    dep_flight.to_csv(save_path, encoding = 'utf8') # 파일 저장"
   ]
  },
  {
   "cell_type": "code",
   "execution_count": null,
   "id": "b437b09b",
   "metadata": {},
   "outputs": [],
   "source": [
    "save(220513)"
   ]
  },
  {
   "cell_type": "code",
   "execution_count": null,
   "id": "918dd50a",
   "metadata": {},
   "outputs": [],
   "source": [
    "if __name__ == '__main__':\n",
    "    num_cores = mp.cpu_count()\n",
    "    pool = Pool(num_cores)\n",
    "    \n",
    "    output2 = pool.map(crawler_arr.crawl, days)\n",
    "\n",
    "    pool.close()\n",
    "    pool.join()\n",
    "    \n",
    "    print(output2)"
   ]
  },
  {
   "cell_type": "code",
   "execution_count": null,
   "id": "6c18b342",
   "metadata": {},
   "outputs": [],
   "source": [
    "def save2(date):\n",
    "    \n",
    "    for i in range(1,35):\n",
    "        output2[0] = output2[0].append(output[i], ignore_index=True)\n",
    "        dep_flight = output2[0]\n",
    "    \n",
    "    save_path = f'/Users/zudy-b/Desktop/항공권 도착 정보_{date}.csv'\n",
    "\n",
    "    dep_flight.to_csv(save_path, encoding = 'utf8') # 파일 저장"
   ]
  },
  {
   "cell_type": "code",
   "execution_count": null,
   "id": "6354d570",
   "metadata": {},
   "outputs": [],
   "source": [
    "save2(220513)"
   ]
  }
 ],
 "metadata": {
  "kernelspec": {
   "display_name": "Python 3 (ipykernel)",
   "language": "python",
   "name": "python3"
  },
  "language_info": {
   "codemirror_mode": {
    "name": "ipython",
    "version": 3
   },
   "file_extension": ".py",
   "mimetype": "text/x-python",
   "name": "python",
   "nbconvert_exporter": "python",
   "pygments_lexer": "ipython3",
   "version": "3.9.7"
  }
 },
 "nbformat": 4,
 "nbformat_minor": 5
}
