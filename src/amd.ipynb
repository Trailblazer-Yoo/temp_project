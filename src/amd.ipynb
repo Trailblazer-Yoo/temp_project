{
 "cells": [
  {
   "cell_type": "code",
   "execution_count": 12,
   "id": "9b03388c",
   "metadata": {},
   "outputs": [
    {
     "name": "stdout",
     "output_type": "stream",
     "text": [
      "Moulin Rouge Show Paris\n",
      "Skip the Line: Louvre Museum Walking Tour including Venus de Milo and Mona Lisa\n",
      "Eiffel Tower,Dinner,Seine River Cruise and Moulin Rouge Show\n",
      "Skip the Line Louvre Museum Must-See Guided Tour\n",
      "Opera Garnier Tour with Expert Guides in Paris\n",
      "Paris: 1, 2, or 3-Day Hop-on Hop-off Ticket\n",
      "Paris: Skip-the-Line Eiffel Tower & Seine River Cruise\n",
      "Versailles Palace & Gardens Timed Ticket with Audio Guide\n",
      "Versailles Palace & Gardens Full Access Ticket & Audio Guide\n",
      "Paris: Eiffel Tower Summit or Second Floor Priority Access\n",
      "Musée d'Orsay Reserved Access 1-Day Admission Ticket\n",
      "Paris: Skip-the-Line Arc de Triomphe Rooftop Tickets\n",
      "Paris Catacombs Skip-the-Line Ticket with Audio Guide\n",
      "Paris: Eiffel Tower Stair Climb to Floor 2 w. Summit Option\n",
      "Eiffel Tower: Second Floor Priority Access\n",
      "Paris: Louvre Museum Timed Entrance Ticket\n",
      "Paris: Moulin Rouge Show with Champagne\n",
      "Montparnasse Tower Roof Terrace Ticket: 360 degrees of Paris\n",
      "Paris: 1-Hour Illuminations River Cruise\n",
      "Paris: 1-hour River Seine Cruise\n"
     ]
    }
   ],
   "source": [
    "from amadeus import Client, ResponseError\n",
    "\n",
    "amadeus = Client(\n",
    "    client_id='qnizwdeLBSiY0xBOndcC9EbOW79NzNE6',\n",
    "    client_secret='MqmuJJmRlEljItZw'\n",
    ")\n",
    "try:\n",
    "    response = amadeus.shopping.activities.get(\n",
    "        latitude = 48.8566,\n",
    "        longitude = 2.3522,\n",
    "        radius = 20)\n",
    "    for data in response.data:\n",
    "        print(data['name'])\n",
    "except ResponseError as error:\n",
    "    print(error)\n",
    "    \n",
    "# 파리"
   ]
  },
  {
   "cell_type": "code",
   "execution_count": 15,
   "id": "09983bb7",
   "metadata": {},
   "outputs": [
    {
     "name": "stdout",
     "output_type": "stream",
     "text": [
      "[]\n"
     ]
    }
   ],
   "source": [
    "amadeus = Client(\n",
    "    client_id='qnizwdeLBSiY0xBOndcC9EbOW79NzNE6',\n",
    "    client_secret='MqmuJJmRlEljItZw'\n",
    ")\n",
    "try:\n",
    "    response = amadeus.shopping.activities.get(\n",
    "        latitude = 19.8968,\n",
    "        longitude = 155.5828,\n",
    "        radius = 20)\n",
    "    print(response.data)\n",
    "    for data in response.data:\n",
    "        print(data['name'])\n",
    "except ResponseError as error:\n",
    "    print(error)"
   ]
  },
  {
   "cell_type": "code",
   "execution_count": null,
   "id": "66fb4d46",
   "metadata": {},
   "outputs": [],
   "source": []
  }
 ],
 "metadata": {
  "kernelspec": {
   "display_name": "tf",
   "language": "python",
   "name": "tf"
  },
  "language_info": {
   "codemirror_mode": {
    "name": "ipython",
    "version": 3
   },
   "file_extension": ".py",
   "mimetype": "text/x-python",
   "name": "python",
   "nbconvert_exporter": "python",
   "pygments_lexer": "ipython3",
   "version": "3.9.0"
  }
 },
 "nbformat": 4,
 "nbformat_minor": 5
}
