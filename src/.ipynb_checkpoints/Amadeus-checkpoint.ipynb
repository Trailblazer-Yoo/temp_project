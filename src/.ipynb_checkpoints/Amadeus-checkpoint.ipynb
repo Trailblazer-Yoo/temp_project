{
 "cells": [
  {
   "cell_type": "code",
   "execution_count": 1,
   "id": "9b03388c",
   "metadata": {},
   "outputs": [
    {
     "ename": "ImportError",
     "evalue": "cannot import name 'Client' from partially initialized module 'amadeus' (most likely due to a circular import) (/Users/yuseonjong/project_exchange/src/amadeus.py)",
     "output_type": "error",
     "traceback": [
      "\u001b[0;31m---------------------------------------------------------------------------\u001b[0m",
      "\u001b[0;31mImportError\u001b[0m                               Traceback (most recent call last)",
      "Input \u001b[0;32mIn [1]\u001b[0m, in \u001b[0;36m<cell line: 1>\u001b[0;34m()\u001b[0m\n\u001b[0;32m----> 1\u001b[0m \u001b[38;5;28;01mfrom\u001b[39;00m \u001b[38;5;21;01mamadeus\u001b[39;00m \u001b[38;5;28;01mimport\u001b[39;00m Client, ResponseError\n\u001b[1;32m      3\u001b[0m amadeus \u001b[38;5;241m=\u001b[39m Client(\n\u001b[1;32m      4\u001b[0m     client_id\u001b[38;5;241m=\u001b[39m\u001b[38;5;124m'\u001b[39m\u001b[38;5;124mqnizwdeLBSiY0xBOndcC9EbOW79NzNE6\u001b[39m\u001b[38;5;124m'\u001b[39m,\n\u001b[1;32m      5\u001b[0m     client_secret\u001b[38;5;241m=\u001b[39m\u001b[38;5;124m'\u001b[39m\u001b[38;5;124mMqmuJJmRlEljItZw\u001b[39m\u001b[38;5;124m'\u001b[39m\n\u001b[1;32m      6\u001b[0m )\n\u001b[1;32m      8\u001b[0m \u001b[38;5;28;01mtry\u001b[39;00m:\n",
      "File \u001b[0;32m~/project_exchange/src/amadeus.py:1\u001b[0m, in \u001b[0;36m<module>\u001b[0;34m\u001b[0m\n\u001b[0;32m----> 1\u001b[0m \u001b[38;5;28;01mfrom\u001b[39;00m \u001b[38;5;21;01mamadeus\u001b[39;00m \u001b[38;5;28;01mimport\u001b[39;00m Client, ResponseError\n\u001b[1;32m      3\u001b[0m amadeus \u001b[38;5;241m=\u001b[39m Client(\n\u001b[1;32m      4\u001b[0m     client_id\u001b[38;5;241m=\u001b[39m\u001b[38;5;124m'\u001b[39m\u001b[38;5;124mqnizwdeLBSiY0xBOndcC9EbOW79NzNE6\u001b[39m\u001b[38;5;124m'\u001b[39m,\n\u001b[1;32m      5\u001b[0m     client_secret\u001b[38;5;241m=\u001b[39m\u001b[38;5;124m'\u001b[39m\u001b[38;5;124mMqmuJJmRlEljItZw\u001b[39m\u001b[38;5;124m'\u001b[39m\n\u001b[1;32m      6\u001b[0m )\n\u001b[1;32m      8\u001b[0m \u001b[38;5;28;01mtry\u001b[39;00m:\n",
      "\u001b[0;31mImportError\u001b[0m: cannot import name 'Client' from partially initialized module 'amadeus' (most likely due to a circular import) (/Users/yuseonjong/project_exchange/src/amadeus.py)"
     ]
    }
   ],
   "source": [
    "from amadeus import Client, ResponseError\n",
    "\n",
    "amadeus = Client(\n",
    "    client_id='qnizwdeLBSiY0xBOndcC9EbOW79NzNE6',\n",
    "    client_secret='MqmuJJmRlEljItZw'\n",
    ")\n",
    "\n",
    "try:\n",
    "    response = amadeus.shopping.flight_offers_search.get(\n",
    "        originLocationCode='MAD',\n",
    "        destinationLocationCode='ATH',\n",
    "        departureDate='2022-11-01',\n",
    "        adults=1)\n",
    "    print(response.data)\n",
    "except ResponseError as error:\n",
    "    print(error)"
   ]
  },
  {
   "cell_type": "code",
   "execution_count": null,
   "id": "09983bb7",
   "metadata": {},
   "outputs": [],
   "source": []
  }
 ],
 "metadata": {
  "kernelspec": {
   "display_name": "tf",
   "language": "python",
   "name": "tf"
  },
  "language_info": {
   "codemirror_mode": {
    "name": "ipython",
    "version": 3
   },
   "file_extension": ".py",
   "mimetype": "text/x-python",
   "name": "python",
   "nbconvert_exporter": "python",
   "pygments_lexer": "ipython3",
   "version": "3.9.0"
  }
 },
 "nbformat": 4,
 "nbformat_minor": 5
}
